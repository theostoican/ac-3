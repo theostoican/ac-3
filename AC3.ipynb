{
 "cells": [
  {
   "cell_type": "markdown",
   "metadata": {
    "colab_type": "text",
    "id": "4DqVrtsKHB1y"
   },
   "source": [
    "## **AC-3**"
   ]
  },
  {
   "cell_type": "markdown",
   "metadata": {
    "colab_type": "text",
    "id": "Mb4-f4YWHCQp"
   },
   "source": [
    "Backtracking - CSP -  De ce ne dorim optimizari (AC3) ?\n",
    "\n",
    "Asa cum ati vazut in laborator, metoda Backtracking are o complexitate exponentiala.Cu toate ca pentru multe probleme rezolvabile prin Backtracking nu se cunosc algoritmi care ruleaza in timp polinomial (problemele de satisfacere a constrangerilor - CSP -, de exemplu), datorita timpilor de executie foarte mari, e natural ne punem intrebarea: \"Cum putem totusi imbunatati timpul de executie al metodei Backtracking ?\". Exista mai multe metode propuse de-a lungul timpului care rezulta in timp redus de executie pentru o multitudine de probleme, *nereducand* totusi timpul de executie in cazul cel mai defavorabil (exponential). Ele raman totusi utile, intrucat pentru anumite date de intrare, timpul de executie poate fi redus substantial."
   ]
  },
  {
   "attachments": {
    "sample.png": {
     "image/png": "[encoded data removed]"
    }
   },
   "cell_type": "markdown",
   "metadata": {
    "colab_type": "text",
    "id": "2i4Q5oyVHCpj"
   },
   "source": [
    "\n",
    "AC-3 (Arc Consistency 3) este un astfel de algoritm. El face parte dintr-o serie de algoritmi de tip *AC* si este cel mai popular in practica pentru CSP-uri rezonabile ca dificultate(versiunile celelalte sunt fie ineficiente, fie dificil de implementat).Numele algoritmului nu este intamplator, ci se bazeaza pe urmatoarea reprezentare a CSP-urilor:\n",
    "\n",
    "> ***Orice CSP se poate reprezenta ca un graf orientat in care nodurilor sunt variabile, iar arcele dintre noduri sunt constrangeri intre variabile.***\n",
    "\n",
    "\n",
    "---\n",
    "\n",
    "**Reminder** : O problema de satisfacere a constrangerilor (CSP) este definita de variabile, domenii ale variabilelor si constrangeri. O solutie valida pentru o astfel de problema este gasirea unei asignari de valori din *domenii* tuturor *variabilelor*, respectand toate *constrangerile*.\n",
    "\n",
    "**Precizare** :\n",
    "Putem avea 2 tipuri de constrangeri:\n",
    "\n",
    "    -constrangeri unare (valorile unei variabile trebuie sa respecte o anumita proprietate, de ex. a % 2 == 0)\n",
    "    \n",
    "    -constrangeri binare (valorile unei variabile trebuie sa respecte o anumita proprietate in raport cu valorile altei variabile, de ex. a + b == 5). Aceste constrangeri sunt simetrice.\n",
    "    \n",
    "\n",
    "*Exemplu de graf*:\n",
    "\n",
    "Fie urmatoarea CSP: *Consideram a, o variabila ce are domeniul D(a) = {0, 1, 2, 3, 4, 5, 6} si b o variabila ce are domeniul D(b) = {0, 1, 2, 3, 4}. Cunoastem constrangerile C1 = \"a % 2 == 0\" si C2 = “a + b trebuie sa fie egal cu 5”.*\n",
    "\n",
    "Putem reprezenta aceasta problema sub forma unui graf in urmatorul mod (pentru simplitate, am reprezentat doar constrangerile binare, cele unare fiind practic o filtrare a valorilor la nivel de nod):\n",
    "![sample.png](attachment:sample.png)\n"
   ]
  },
  {
   "cell_type": "markdown",
   "metadata": {},
   "source": [
    "Astfel, in noduri avem variabilele(*a si b* si domeniile corespunzatoare, iar pe muchii avem constrangerile aferente intre variabile (*a+b = 5*)).\n",
    "\n",
    "Revenind la numele algoritmului, AC-3 cauta sa reduca domeniile variabilelor din CSP, astfel incat spatiul starilor in momentul rularii metodei Backtracking sa fie cat mai mic. De ce vrem acest lucru ? Tocmai din motivul enuntat la inceput, acela de a salva timp computational in momentul rularii unui algoritm backtracking (exponential, in general). Daca vom reduce spatiul starilor, atunci, in mod natural, Backtracking va petrece un timp mai scurt explorand, in vederea gasirii solutiei (o asignare valida de valori fiecarei *variabile*), intrucat vor fi mai putine stari prin care algoritmul va trebui sa treaca. De asemenea, graful de consistenta fiind orientat, iar, datorita faptului ne dorim sa reducem domeniul ambelor variabile aferent unui arc, vom introduce 2 arce orientate, ((a, b) si (b,a) - in ex. dat).\n",
    "\n",
    "AC-3 duce la aceasta reducere a spatiului starilor prin asigurarea arc-consistentei(*de aici si numele*) intre nodurile din graful aferent CSP-ului. Acum, arc-consistenta se refera la pastrarea acelor valori din domeniul de definitie al unei variabile x, astfel incat pentru fiecare (x, y) catre o alta variabila y, sa existe o valoare din domeniul lui y care, impreuna cu valoarea curenta a lui x, sa respecta constrangerea data.\n"
   ]
  },
  {
   "cell_type": "markdown",
   "metadata": {
    "colab_type": "text",
    "id": "NFybewjBHYdq"
   },
   "source": [
    "**Pseudocod(Wikipedia)**\n"
   ]
  },
  {
   "cell_type": "raw",
   "metadata": {},
   "source": [
    "# Input:\n",
    "   O multime de variabile X\n",
    "   O multime de domenii D(x) pentru fiecare variabila x in X. D(x) contine vx0, vx1... vxn, valorile posibile ale variabilei x\n",
    "   O multime de constrangeri unare R1(x) asupra variabilei x, care trebuie satisfacute\n",
    "   O multime de constrangeri binare R2(x, y) asupra variabilelor x si y, care trebuiesc satisfacute\n",
    "   \n",
    " Output:\n",
    "   Noile domenii ale variabilelor dupa asigurarea arc-consistentei\n",
    " \n",
    " function ac3 (X, D, R1, R2)\n",
    "     // Eliminam initial din domeniile tuturor variabilelor valorile care nu\n",
    "     // respecta constrangerile unare\n",
    "     for each x in X\n",
    "         D(x) := { vx in D(x) | R1(x) }   \n",
    "     // 'worklist' este multimea tuturor arcelor a caror consistenta dorim sa o asiguram.\n",
    "     // Initial, va contine toate arcele din graful aferent CSP-ului.\n",
    "     worklist := { (x, y) | there exists a relation R2(x, y) or a relation R2(y, x) }\n",
    " \n",
    " \n",
    "     // Bucla principala a algoritmului. Luam fiecare arc si verificam daca valorile celor 2 noduri (variabile)\n",
    "     // corespunzatoare arcului sunt consistente (apeland arc-reduce).\n",
    "     do\n",
    "         // Scoatem un arc din multime\n",
    "         select any arc (x, y) from worklist\n",
    "         worklist := worklist - (x, y)\n",
    "         \n",
    "         // Caz tricky:\n",
    "             -> daca, dupa rularea functiei arc-reduce, domeniul lui x este vid, atunci putem incheia executia\n",
    "                 programului, intrucat, in mod cert nu exista o solutie (nu putem asigna nicio valoare variabilei\n",
    "                 x, deoarece niciuna din cele nu este consistenta).\n",
    "             -> daca, dupa rularea functiei arc-reduce, domeniul lui x nu este vid, dar am eliminat cel putin o \n",
    "                 variabila din D(x), atunci trebuie sa reverificam arc-consistenta pentru toate variabilele *z* \n",
    "                 care au un arc care intra in nodul aferent variabilei *x*, chiar daca am facut aceasta verificare \n",
    "                 anterior - acest lucru insemnand ca am scos arcele respective deja din coada la iteratiile \n",
    "                 precedente- intrucat, pentru anumite valori din D(z), este posibil sa fi gasit valori din D(x) \n",
    "                 (astfel incat constrangerea aferenta arcului *(z, x)* sa fie respectata), pe care acum le-am \n",
    "                 eliminat, insa. In acest caz, acele valori din D(z) nu ar mai avea un corespondent in D(x) si \n",
    "                 ar trebui eliminate. De asemenea, datorita simetriei constrangerilor, daca am procesat o data \n",
    "                 arcul (x, y), nu dorim sa procesam inca o data si (y, x) - de aici si conditia *z != y* de mai jos \n",
    "                 -, intrucat, nu putem elimina valori din D(x) care sa fie consistente pentru (y, x) si nu pentru \n",
    "                 (x, y) (ex: daca R2(x, y) = (a + b == 5), nu putem elimina valori ale lui deoarece a + b != 5, dar \n",
    "                 in acelasi timp b + a == 5 - am incalca proprietatea de simetrie -).\n",
    "         if arc-reduce (x, y) \n",
    "             if D(x) is empty\n",
    "                 return failure\n",
    "             else\n",
    "                 worklist := worklist + { (z, x) | z != y and there exists a relation R2(x, z) or a relation R2(z, x) }\n",
    "         // De asemenea, este posibil ca toate valorile lui D(x) sa aiba un corespondent in D(y), asa ca nu vom \n",
    "         // elimina nicio valoare (arc-reduce intoarce false) si continuam cu urmatoarea iteratie.\n",
    "     while worklist not empty\n",
    " \n",
    " // Functia arc-reduce elimina din domeniul lui x, D(x), toate valorile pentru care nu exista o valoare din D(y),\n",
    " // astfel incat constrangerea sa fie satisfacuta. Intoarce true daca D(x) s-a schimbat la finalul executiei\n",
    " // functiei (adica cel putin o valoare a fost eliminata)\n",
    " function arc-reduce (x, y)\n",
    "     bool change = false\n",
    "     for each vx in D(x)\n",
    "         find a value vy in D(y) such that vx and vy satisfy the constraint R2(x, y)\n",
    "         if there is no such vy {\n",
    "             D(x) := D(x) - vx\n",
    "             change := true\n",
    "         }\n",
    "     return change"
   ]
  },
  {
   "cell_type": "markdown",
   "metadata": {},
   "source": [
    "**Complexitate** : O(ed^3), unde\n",
    "* e - numarul de arce, \n",
    "* d - dimensiunea maxima a unui domeniu.\n",
    "\n",
    "*Explicatie*: Functia arc-reduce are complexitate O(d^2) - 2 for-uri dupa valorile din domeniu a 2 variabile -. Asadar, mai trebuie sa vedem de cate ori este apelata arc-reduce. Dupa cum putem vedea, in coada din bucla principala din functia ac3, avem initial e elemente in coada. Pe parcurs, se vor readauga arce in coada. De cate ori putem readauga un arc? De fiecare data cand scoatem o valoare din domeniul variabilei catre care e orientat arcul, putem reinsera acel arc. Avem e - nr. de arce, d - dimensiunea maxima a domeniului, deci e * d putem reinsera in cel mai defavorabil caz. Deci, complexitatea este O((e + e*d) * d^2), adica O(e * d ^ 3). "
   ]
  },
  {
   "cell_type": "markdown",
   "metadata": {},
   "source": [
    "In cele ce urmeaza, vom implementa AC-3 si Backtracking si vom rezolva urmatorul CSP, similar cu cel de mai sus: *\"Consideram a, o variabila ce are domeniul D(a) = {0, 1, 2, 3, 4, 5} si b o variabila ce are domeniul D(b) = {0, 1, 2, 3, 4, 5}. Cunoastem constrangerile C1 = \"a % 2 == 0\" si C2 = “a + b trebuie sa fie egal cu 4”*"
   ]
  },
  {
   "cell_type": "code",
   "execution_count": 126,
   "metadata": {},
   "outputs": [],
   "source": [
    "// Interfata utila pentru a verifica constrangeri unare (folosind lambdas)\n",
    "interface UnaryConstraint extends Constraint {\n",
    "    boolean isSatisfiedBy(int a);\n",
    "}\n",
    "\n",
    "// Interfata utila pentru a verifica constrangeri binare (folosind lambdas)\n",
    "interface BinaryConstraint extends Constraint {\n",
    "    boolean isSatisfiedBy(int a, int b);\n",
    "}\n",
    "\n",
    "// Wrapper pentru arcele din graful de consistenta\n",
    "class Edge {\n",
    "    String x, y;\n",
    "    \n",
    "    Edge(String x, String y) {\n",
    "        this.x = x;\n",
    "        this.y = y;\n",
    "    } \n",
    "}\n",
    "\n",
    "// Wrapper pentru functiile de backtracking si AC3\n",
    "//    -> din motive de simplitate, presupunem ca avem un singur tip de constrangere binara,\n",
    "//       care se aplica pentru toate arcele.\n",
    "//    -> tot din motive de simplitate, presupunem ca identificam variabilele din multimea X\n",
    "//       prin string-uri\n",
    "class Backtracking {\n",
    "    // Algoritmul AC3, asa cum e descris in pseudocod.\n",
    "    boolean ac3(ArrayList<String> X, HashMap<String, ArrayList<Integer>> D, HashMap<String,\n",
    "             ArrayList<UnaryConstraint>> R1, ArrayList<Edge> edges, BinaryConstraint r2) {\n",
    "\n",
    "        for (String x : X) {\n",
    "            Iterator<Integer> vxIterator = D.get(x).iterator();\n",
    "            \n",
    "            while (vxIterator.hasNext()) {\n",
    "                Integer vx = vxIterator.next();\n",
    "                \n",
    "                for (UnaryConstraint r1 : R1.get(x)) {\n",
    "                    if (!r1.isSatisfiedBy(vx)) {\n",
    "                        vxIterator.remove();\n",
    "                    }\n",
    "                }\n",
    "            }\n",
    "        }        \n",
    "\n",
    "        Queue<Edge> workList = new LinkedList<Edge>();\n",
    "        \n",
    "        for (Edge edge : edges) {\n",
    "            workList.add(edge);\n",
    "        }\n",
    "        \n",
    "        while (!workList.isEmpty()) {\n",
    "            Edge edge = workList.poll();\n",
    "            \n",
    "            if (arcReduce(edge, D, r2)) {\n",
    "                if (D.get(edge.x).isEmpty()) {\n",
    "                    return false;\n",
    "                } else {\n",
    "                    for (Edge candidateEdge : edges) {\n",
    "                        if (candidateEdge.y == edge.x && candidateEdge.x != edge.y &&\n",
    "                                !workList.contains(edge)) {\n",
    "                            workList.add(candidateEdge);\n",
    "                        }\n",
    "                    }\n",
    "                }\n",
    "            }\n",
    "        }\n",
    "        \n",
    "        return true;\n",
    "    }\n",
    "    \n",
    "    // Functia arcReduce, asa cum e descrisa in pseudocod\n",
    "    boolean arcReduce(Edge edge, HashMap<String, ArrayList<Integer>> D, BinaryConstraint r2) {\n",
    "        boolean change = false;\n",
    "        Iterator<Integer> vxIterator = D.get(edge.x).iterator();\n",
    "        \n",
    "        while (vxIterator.hasNext()) {    \n",
    "            boolean satisfied = false;\n",
    "            Integer vx = vxIterator.next();\n",
    "            \n",
    "            for (Integer vy : D.get(edge.y)) {\n",
    "                if (r2.isSatisfiedBy(vx, vy)) {\n",
    "                    satisfied = true;\n",
    "                    break;\n",
    "                }\n",
    "            }\n",
    "            \n",
    "            if (!satisfied) {\n",
    "                vxIterator.remove();\n",
    "                change = true;\n",
    "            }\n",
    "        }\n",
    "        \n",
    "        return change;\n",
    "    }\n",
    "    \n",
    "    // Functia de verificare a solutiei din algoritmul backtracking\n",
    "    boolean check(Integer a, Integer b) {\n",
    "        return (a + b == 4);\n",
    "    }\n",
    "    \n",
    "    // Functia corespunzatoare algoritmului backtracking. Incercam sa asignam o valoare\n",
    "    // lui a, apoi lui b si, la final, verificam daca este solutie.\n",
    "    void back(ArrayList<ArrayList<Integer>> sols, \n",
    "              Integer a, Integer b, ArrayList<Integer> Da, ArrayList<Integer> Db) {\n",
    "        if (a != null && b != null) {\n",
    "            if (check(a, b)) {\n",
    "                ArrayList<Integer> sol = new ArrayList<Integer>();\n",
    "                sol.add(a);sol.add(b);\n",
    "\n",
    "                sols.add(sol);\n",
    "            }\n",
    "            \n",
    "            return;\n",
    "        }\n",
    "        \n",
    "        if (a == null) {\n",
    "            for (Integer va : Da) {\n",
    "                back(sols, va, b, Da, Db);\n",
    "            }\n",
    "        } else {\n",
    "            // b == NULL obligatoriu daca ajungem aici\n",
    "            for (Integer vb : Db) {\n",
    "                back(sols, a, vb, Da, Db);\n",
    "            }\n",
    "        }\n",
    "    }\n",
    "}"
   ]
  },
  {
   "cell_type": "code",
   "execution_count": 127,
   "metadata": {},
   "outputs": [
    {
     "name": "stdout",
     "output_type": "stream",
     "text": [
      "Domeniile initiale ale variabilelor:\n",
      "D(x): {0 1 2 3 4 5 } \n",
      "D(y): {0 1 2 3 4 5 } \n",
      "Domeniile variabilelor dupa rularea AC-3: \n",
      "D(x): {0 2 4 }\n",
      "D(y): {0 2 4 }\n"
     ]
    }
   ],
   "source": [
    "//Construim variabilele, reprezentate prin 2 string-uri (\"a\" si \"b\")\n",
    "ArrayList<String> X = new ArrayList<String>();\n",
    "X.add(\"a\"); X.add(\"b\");\n",
    "\n",
    "\n",
    "// Construim domeniile variabilelor : {0, 1, 2, 3, 4,5} pentru amandoua.\n",
    "HashMap<String, ArrayList<Integer>> D = new HashMap<String, ArrayList<Integer>>();\n",
    "\n",
    "ArrayList<Integer> da = new ArrayList<Integer>();\n",
    "da.add(0);da.add(1);da.add(2);da.add(3);da.add(4);da.add(5);\n",
    "\n",
    "ArrayList<Integer> db = new ArrayList<Integer>();\n",
    "db.add(0);db.add(1);db.add(2);db.add(3);db.add(4);db.add(5);\n",
    "\n",
    "D.put(\"a\", da);D.put(\"b\", db);\n",
    "\n",
    "// Afisam domeniile initiale\n",
    "System.out.println(\"Domeniile initiale ale variabilelor:\");\n",
    "System.out.print(\"D(x): {\");\n",
    "for (Integer vy : D.get(X.get(0))) {\n",
    "    System.out.print(vy + \" \");\n",
    "}\n",
    "System.out.println(\"} \");\n",
    "\n",
    "System.out.print(\"D(y): {\");\n",
    "for (Integer vy : D.get(X.get(1))) {\n",
    "    System.out.print(vy + \" \");\n",
    "}\n",
    "System.out.println(\"} \");\n",
    "\n",
    "// Construim constrangerile unare\n",
    "HashMap<String, ArrayList<UnaryConstraint>> R1 = new HashMap<String, ArrayList<UnaryConstraint>>();\n",
    "\n",
    "// Pentru variabila \"a\" avem constrangerea de paritate.\n",
    "ArrayList<UnaryConstraint> aConstraints = new ArrayList<UnaryConstraint>();\n",
    "aConstraints.add((a) -> a % 2 == 0);\n",
    "R1.put(\"a\", aConstraints);\n",
    "\n",
    "// Pentru variabila \"b\" nu avem nicio constrangere (adaugam un vector vid).\n",
    "R1.put(\"b\", new ArrayList<UnaryConstraint>());\n",
    "\n",
    "// Adaugam arcele din graf.\n",
    "ArrayList<Edge> edges = new ArrayList<Edge>();\n",
    "edges.add(new Edge(\"a\", \"b\"));\n",
    "edges.add(new Edge(\"b\", \"a\"));\n",
    "\n",
    "// Setam constrangerea binara.\n",
    "BinaryConstraint r2 = (a, b) -> a + b == 4;\n",
    "\n",
    "\n",
    "Backtracking bkt = new Backtracking();\n",
    "\n",
    "// Rulam algoritmul AC3\n",
    "bkt.ac3(X, D, R1, edges, r2);\n",
    "\n",
    "// Afisam noile domenii\n",
    "System.out.println(\"Domeniile variabilelor dupa rularea AC-3: \");\n",
    "\n",
    "System.out.print(\"D(x): {\");\n",
    "for (Integer vx : D.get(X.get(0))) {\n",
    "    System.out.print(vx + \" \");\n",
    "}\n",
    "System.out.println(\"}\");\n",
    "\n",
    "System.out.print(\"D(y): {\");\n",
    "for (Integer vy : D.get(X.get(1))) {\n",
    "    System.out.print(vy + \" \");\n",
    "}\n",
    "System.out.println(\"}\");"
   ]
  },
  {
   "cell_type": "code",
   "execution_count": 128,
   "metadata": {},
   "outputs": [
    {
     "name": "stdout",
     "output_type": "stream",
     "text": [
      "Solutiile problemei sunt:\n",
      "0 4 \n",
      "2 2 \n",
      "4 0 \n"
     ]
    }
   ],
   "source": [
    "//Rulam backtracking pe noile domenii;\n",
    "ArrayList<ArrayList<Integer>> sols = new ArrayList<ArrayList<Integer>>();\n",
    "\n",
    "bkt.back(sols, null, null, D.get(X.get(0)), D.get(X.get(1)));\n",
    "\n",
    "System.out.println(\"Solutiile problemei sunt:\");\n",
    "\n",
    "for (ArrayList<Integer> sol : sols) {\n",
    "    for (Integer i : sol) {\n",
    "        System.out.print(i + \" \");\n",
    "    }\n",
    "    System.out.println();\n",
    "}"
   ]
  },
  {
   "cell_type": "markdown",
   "metadata": {},
   "source": [
    "**Observatie**: Dupa cum puteti vedea, AC-3 a redus domeniul variabilelor de la {0, 1, 2, 3, 4, 5} la {0, 2, 4} reducand spatiul de cautare. Apoi am rulat Backtracking pe noile domenii si am determinat solutiile."
   ]
  },
  {
   "cell_type": "markdown",
   "metadata": {
    "colab_type": "text",
    "id": "BQ2lfBAEHjZg"
   },
   "source": [
    "**Important**:\n",
    "* AC3 intoarce false daca domeniul unei variabile devine vid, neexistand o solutie pentru CSP.\n",
    "* AC3 nu garanteaza ca, daca niciun domeniu nu devine vid, atunci exista cu siguranta o solutie. Acesta doar reduce dimensiunea domeniilor, urmand ca determinarea solutiei/solutiilor sa se realizeze cu backtracking, ca mai sus."
   ]
  },
  {
   "cell_type": "markdown",
   "metadata": {},
   "source": [
    "# N-Queens"
   ]
  },
  {
   "cell_type": "markdown",
   "metadata": {
    "colab_type": "text",
    "id": "smwvb96MI56C"
   },
   "source": [
    "\n",
    "\n",
    "Incercati sa modelati problema N-Queens sub forma unui CSP. Cine sunt variabilele ? Dar domeniile si constrangerile?\n",
    "\n",
    "**Hint 1**: Ce rol ar putea juca reginele? Unde pot fi pozitionate ele?\n",
    "\n",
    "**Hint 2**: Intre ce variabile putem avea constrangeri?\n",
    "\n",
    "Modificati implementarea de mai sus astfel incat sa puteti rezolva N-Queens cu AC-3 si BKT.\n",
    "\n",
    "**Incercati sa va ganditi la un exemplu pentru problemei N-Queens, in care, dupa rularea AC-3, problema inca nu are solutie ! **\n",
    "\n",
    "**Hint** : Incercati pentru N = 2 si N = 3, deoarece doar in aceste cazuri problema nu are solutie."
   ]
  }
 ],
 "metadata": {
  "colab": {
   "name": "Untitled1.ipynb",
   "provenance": [],
   "toc_visible": true,
   "version": "0.3.2"
  },
  "kernelspec": {
   "display_name": "Java",
   "language": "java",
   "name": "java"
  },
  "language_info": {
   "codemirror_mode": "java",
   "file_extension": ".java",
   "mimetype": "text/x-java-source",
   "name": "Java",
   "pygments_lexer": "java",
   "version": "11.0.1+13-Ubuntu-3ubuntu118.04ppa1"
  }
 },
 "nbformat": 4,
 "nbformat_minor": 1
}
